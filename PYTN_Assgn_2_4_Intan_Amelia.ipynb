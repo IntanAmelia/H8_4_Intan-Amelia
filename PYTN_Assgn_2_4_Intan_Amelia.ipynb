{
  "nbformat": 4,
  "nbformat_minor": 0,
  "metadata": {
    "colab": {
      "provenance": []
    },
    "kernelspec": {
      "name": "python3",
      "display_name": "Python 3"
    },
    "language_info": {
      "name": "python"
    }
  },
  "cells": [
    {
      "cell_type": "markdown",
      "source": [
        "#Import"
      ],
      "metadata": {
        "id": "wxGo2pN7IkmT"
      }
    },
    {
      "cell_type": "code",
      "execution_count": 2,
      "metadata": {
        "id": "U2Nkvh5Ciq6a"
      },
      "outputs": [],
      "source": [
        "import pandas as pd\n",
        "import numpy as np\n",
        "import matplotlib.pyplot as plt\n",
        "%matplotlib inline\n",
        "import seaborn as sns\n",
        "import scipy.stats\n",
        "import statsmodels.api as sm\n",
        "pd.set_option(\"display.max.columns\", None)"
      ]
    },
    {
      "cell_type": "markdown",
      "source": [
        "#Load Data"
      ],
      "metadata": {
        "id": "bt1p_Q-IIn-a"
      }
    },
    {
      "cell_type": "code",
      "source": [
        "missing_values = [' ', ' -  '] # missing value pada dataset\n",
        "nyc = pd.read_csv('nyc-rolling-sales.csv', na_values = missing_values)\n",
        "nyc.head()"
      ],
      "metadata": {
        "colab": {
          "base_uri": "https://localhost:8080/",
          "height": 600
        },
        "id": "PDZI41fVENSW",
        "outputId": "32cafb97-3aba-4347-9cda-0747189e357e"
      },
      "execution_count": 3,
      "outputs": [
        {
          "output_type": "execute_result",
          "data": {
            "text/plain": [
              "   Unnamed: 0  BOROUGH   NEIGHBORHOOD  \\\n",
              "0           4        1  ALPHABET CITY   \n",
              "1           5        1  ALPHABET CITY   \n",
              "2           6        1  ALPHABET CITY   \n",
              "3           7        1  ALPHABET CITY   \n",
              "4           8        1  ALPHABET CITY   \n",
              "\n",
              "                       BUILDING CLASS CATEGORY TAX CLASS AT PRESENT  BLOCK  \\\n",
              "0  07 RENTALS - WALKUP APARTMENTS                                2A    392   \n",
              "1  07 RENTALS - WALKUP APARTMENTS                                 2    399   \n",
              "2  07 RENTALS - WALKUP APARTMENTS                                 2    399   \n",
              "3  07 RENTALS - WALKUP APARTMENTS                                2B    402   \n",
              "4  07 RENTALS - WALKUP APARTMENTS                                2A    404   \n",
              "\n",
              "   LOT  EASE-MENT BUILDING CLASS AT PRESENT                 ADDRESS  \\\n",
              "0    6        NaN                        C2            153 AVENUE B   \n",
              "1   26        NaN                        C7   234 EAST 4TH   STREET   \n",
              "2   39        NaN                        C7   197 EAST 3RD   STREET   \n",
              "3   21        NaN                        C4     154 EAST 7TH STREET   \n",
              "4   55        NaN                        C2  301 EAST 10TH   STREET   \n",
              "\n",
              "  APARTMENT NUMBER  ZIP CODE  RESIDENTIAL UNITS  COMMERCIAL UNITS  \\\n",
              "0              NaN     10009                  5                 0   \n",
              "1              NaN     10009                 28                 3   \n",
              "2              NaN     10009                 16                 1   \n",
              "3              NaN     10009                 10                 0   \n",
              "4              NaN     10009                  6                 0   \n",
              "\n",
              "   TOTAL UNITS  LAND SQUARE FEET  GROSS SQUARE FEET  YEAR BUILT  \\\n",
              "0            5            1633.0             6440.0        1900   \n",
              "1           31            4616.0            18690.0        1900   \n",
              "2           17            2212.0             7803.0        1900   \n",
              "3           10            2272.0             6794.0        1913   \n",
              "4            6            2369.0             4615.0        1900   \n",
              "\n",
              "   TAX CLASS AT TIME OF SALE BUILDING CLASS AT TIME OF SALE  SALE PRICE  \\\n",
              "0                          2                             C2   6625000.0   \n",
              "1                          2                             C7         NaN   \n",
              "2                          2                             C7         NaN   \n",
              "3                          2                             C4   3936272.0   \n",
              "4                          2                             C2   8000000.0   \n",
              "\n",
              "             SALE DATE  \n",
              "0  2017-07-19 00:00:00  \n",
              "1  2016-12-14 00:00:00  \n",
              "2  2016-12-09 00:00:00  \n",
              "3  2016-09-23 00:00:00  \n",
              "4  2016-11-17 00:00:00  "
            ],
            "text/html": [
              "\n",
              "  <div id=\"df-876d36d6-b7c6-4845-b1b0-06bd8a87b733\">\n",
              "    <div class=\"colab-df-container\">\n",
              "      <div>\n",
              "<style scoped>\n",
              "    .dataframe tbody tr th:only-of-type {\n",
              "        vertical-align: middle;\n",
              "    }\n",
              "\n",
              "    .dataframe tbody tr th {\n",
              "        vertical-align: top;\n",
              "    }\n",
              "\n",
              "    .dataframe thead th {\n",
              "        text-align: right;\n",
              "    }\n",
              "</style>\n",
              "<table border=\"1\" class=\"dataframe\">\n",
              "  <thead>\n",
              "    <tr style=\"text-align: right;\">\n",
              "      <th></th>\n",
              "      <th>Unnamed: 0</th>\n",
              "      <th>BOROUGH</th>\n",
              "      <th>NEIGHBORHOOD</th>\n",
              "      <th>BUILDING CLASS CATEGORY</th>\n",
              "      <th>TAX CLASS AT PRESENT</th>\n",
              "      <th>BLOCK</th>\n",
              "      <th>LOT</th>\n",
              "      <th>EASE-MENT</th>\n",
              "      <th>BUILDING CLASS AT PRESENT</th>\n",
              "      <th>ADDRESS</th>\n",
              "      <th>APARTMENT NUMBER</th>\n",
              "      <th>ZIP CODE</th>\n",
              "      <th>RESIDENTIAL UNITS</th>\n",
              "      <th>COMMERCIAL UNITS</th>\n",
              "      <th>TOTAL UNITS</th>\n",
              "      <th>LAND SQUARE FEET</th>\n",
              "      <th>GROSS SQUARE FEET</th>\n",
              "      <th>YEAR BUILT</th>\n",
              "      <th>TAX CLASS AT TIME OF SALE</th>\n",
              "      <th>BUILDING CLASS AT TIME OF SALE</th>\n",
              "      <th>SALE PRICE</th>\n",
              "      <th>SALE DATE</th>\n",
              "    </tr>\n",
              "  </thead>\n",
              "  <tbody>\n",
              "    <tr>\n",
              "      <th>0</th>\n",
              "      <td>4</td>\n",
              "      <td>1</td>\n",
              "      <td>ALPHABET CITY</td>\n",
              "      <td>07 RENTALS - WALKUP APARTMENTS</td>\n",
              "      <td>2A</td>\n",
              "      <td>392</td>\n",
              "      <td>6</td>\n",
              "      <td>NaN</td>\n",
              "      <td>C2</td>\n",
              "      <td>153 AVENUE B</td>\n",
              "      <td>NaN</td>\n",
              "      <td>10009</td>\n",
              "      <td>5</td>\n",
              "      <td>0</td>\n",
              "      <td>5</td>\n",
              "      <td>1633.0</td>\n",
              "      <td>6440.0</td>\n",
              "      <td>1900</td>\n",
              "      <td>2</td>\n",
              "      <td>C2</td>\n",
              "      <td>6625000.0</td>\n",
              "      <td>2017-07-19 00:00:00</td>\n",
              "    </tr>\n",
              "    <tr>\n",
              "      <th>1</th>\n",
              "      <td>5</td>\n",
              "      <td>1</td>\n",
              "      <td>ALPHABET CITY</td>\n",
              "      <td>07 RENTALS - WALKUP APARTMENTS</td>\n",
              "      <td>2</td>\n",
              "      <td>399</td>\n",
              "      <td>26</td>\n",
              "      <td>NaN</td>\n",
              "      <td>C7</td>\n",
              "      <td>234 EAST 4TH   STREET</td>\n",
              "      <td>NaN</td>\n",
              "      <td>10009</td>\n",
              "      <td>28</td>\n",
              "      <td>3</td>\n",
              "      <td>31</td>\n",
              "      <td>4616.0</td>\n",
              "      <td>18690.0</td>\n",
              "      <td>1900</td>\n",
              "      <td>2</td>\n",
              "      <td>C7</td>\n",
              "      <td>NaN</td>\n",
              "      <td>2016-12-14 00:00:00</td>\n",
              "    </tr>\n",
              "    <tr>\n",
              "      <th>2</th>\n",
              "      <td>6</td>\n",
              "      <td>1</td>\n",
              "      <td>ALPHABET CITY</td>\n",
              "      <td>07 RENTALS - WALKUP APARTMENTS</td>\n",
              "      <td>2</td>\n",
              "      <td>399</td>\n",
              "      <td>39</td>\n",
              "      <td>NaN</td>\n",
              "      <td>C7</td>\n",
              "      <td>197 EAST 3RD   STREET</td>\n",
              "      <td>NaN</td>\n",
              "      <td>10009</td>\n",
              "      <td>16</td>\n",
              "      <td>1</td>\n",
              "      <td>17</td>\n",
              "      <td>2212.0</td>\n",
              "      <td>7803.0</td>\n",
              "      <td>1900</td>\n",
              "      <td>2</td>\n",
              "      <td>C7</td>\n",
              "      <td>NaN</td>\n",
              "      <td>2016-12-09 00:00:00</td>\n",
              "    </tr>\n",
              "    <tr>\n",
              "      <th>3</th>\n",
              "      <td>7</td>\n",
              "      <td>1</td>\n",
              "      <td>ALPHABET CITY</td>\n",
              "      <td>07 RENTALS - WALKUP APARTMENTS</td>\n",
              "      <td>2B</td>\n",
              "      <td>402</td>\n",
              "      <td>21</td>\n",
              "      <td>NaN</td>\n",
              "      <td>C4</td>\n",
              "      <td>154 EAST 7TH STREET</td>\n",
              "      <td>NaN</td>\n",
              "      <td>10009</td>\n",
              "      <td>10</td>\n",
              "      <td>0</td>\n",
              "      <td>10</td>\n",
              "      <td>2272.0</td>\n",
              "      <td>6794.0</td>\n",
              "      <td>1913</td>\n",
              "      <td>2</td>\n",
              "      <td>C4</td>\n",
              "      <td>3936272.0</td>\n",
              "      <td>2016-09-23 00:00:00</td>\n",
              "    </tr>\n",
              "    <tr>\n",
              "      <th>4</th>\n",
              "      <td>8</td>\n",
              "      <td>1</td>\n",
              "      <td>ALPHABET CITY</td>\n",
              "      <td>07 RENTALS - WALKUP APARTMENTS</td>\n",
              "      <td>2A</td>\n",
              "      <td>404</td>\n",
              "      <td>55</td>\n",
              "      <td>NaN</td>\n",
              "      <td>C2</td>\n",
              "      <td>301 EAST 10TH   STREET</td>\n",
              "      <td>NaN</td>\n",
              "      <td>10009</td>\n",
              "      <td>6</td>\n",
              "      <td>0</td>\n",
              "      <td>6</td>\n",
              "      <td>2369.0</td>\n",
              "      <td>4615.0</td>\n",
              "      <td>1900</td>\n",
              "      <td>2</td>\n",
              "      <td>C2</td>\n",
              "      <td>8000000.0</td>\n",
              "      <td>2016-11-17 00:00:00</td>\n",
              "    </tr>\n",
              "  </tbody>\n",
              "</table>\n",
              "</div>\n",
              "      <button class=\"colab-df-convert\" onclick=\"convertToInteractive('df-876d36d6-b7c6-4845-b1b0-06bd8a87b733')\"\n",
              "              title=\"Convert this dataframe to an interactive table.\"\n",
              "              style=\"display:none;\">\n",
              "        \n",
              "  <svg xmlns=\"http://www.w3.org/2000/svg\" height=\"24px\"viewBox=\"0 0 24 24\"\n",
              "       width=\"24px\">\n",
              "    <path d=\"M0 0h24v24H0V0z\" fill=\"none\"/>\n",
              "    <path d=\"M18.56 5.44l.94 2.06.94-2.06 2.06-.94-2.06-.94-.94-2.06-.94 2.06-2.06.94zm-11 1L8.5 8.5l.94-2.06 2.06-.94-2.06-.94L8.5 2.5l-.94 2.06-2.06.94zm10 10l.94 2.06.94-2.06 2.06-.94-2.06-.94-.94-2.06-.94 2.06-2.06.94z\"/><path d=\"M17.41 7.96l-1.37-1.37c-.4-.4-.92-.59-1.43-.59-.52 0-1.04.2-1.43.59L10.3 9.45l-7.72 7.72c-.78.78-.78 2.05 0 2.83L4 21.41c.39.39.9.59 1.41.59.51 0 1.02-.2 1.41-.59l7.78-7.78 2.81-2.81c.8-.78.8-2.07 0-2.86zM5.41 20L4 18.59l7.72-7.72 1.47 1.35L5.41 20z\"/>\n",
              "  </svg>\n",
              "      </button>\n",
              "      \n",
              "  <style>\n",
              "    .colab-df-container {\n",
              "      display:flex;\n",
              "      flex-wrap:wrap;\n",
              "      gap: 12px;\n",
              "    }\n",
              "\n",
              "    .colab-df-convert {\n",
              "      background-color: #E8F0FE;\n",
              "      border: none;\n",
              "      border-radius: 50%;\n",
              "      cursor: pointer;\n",
              "      display: none;\n",
              "      fill: #1967D2;\n",
              "      height: 32px;\n",
              "      padding: 0 0 0 0;\n",
              "      width: 32px;\n",
              "    }\n",
              "\n",
              "    .colab-df-convert:hover {\n",
              "      background-color: #E2EBFA;\n",
              "      box-shadow: 0px 1px 2px rgba(60, 64, 67, 0.3), 0px 1px 3px 1px rgba(60, 64, 67, 0.15);\n",
              "      fill: #174EA6;\n",
              "    }\n",
              "\n",
              "    [theme=dark] .colab-df-convert {\n",
              "      background-color: #3B4455;\n",
              "      fill: #D2E3FC;\n",
              "    }\n",
              "\n",
              "    [theme=dark] .colab-df-convert:hover {\n",
              "      background-color: #434B5C;\n",
              "      box-shadow: 0px 1px 3px 1px rgba(0, 0, 0, 0.15);\n",
              "      filter: drop-shadow(0px 1px 2px rgba(0, 0, 0, 0.3));\n",
              "      fill: #FFFFFF;\n",
              "    }\n",
              "  </style>\n",
              "\n",
              "      <script>\n",
              "        const buttonEl =\n",
              "          document.querySelector('#df-876d36d6-b7c6-4845-b1b0-06bd8a87b733 button.colab-df-convert');\n",
              "        buttonEl.style.display =\n",
              "          google.colab.kernel.accessAllowed ? 'block' : 'none';\n",
              "\n",
              "        async function convertToInteractive(key) {\n",
              "          const element = document.querySelector('#df-876d36d6-b7c6-4845-b1b0-06bd8a87b733');\n",
              "          const dataTable =\n",
              "            await google.colab.kernel.invokeFunction('convertToInteractive',\n",
              "                                                     [key], {});\n",
              "          if (!dataTable) return;\n",
              "\n",
              "          const docLinkHtml = 'Like what you see? Visit the ' +\n",
              "            '<a target=\"_blank\" href=https://colab.research.google.com/notebooks/data_table.ipynb>data table notebook</a>'\n",
              "            + ' to learn more about interactive tables.';\n",
              "          element.innerHTML = '';\n",
              "          dataTable['output_type'] = 'display_data';\n",
              "          await google.colab.output.renderOutput(dataTable, element);\n",
              "          const docLink = document.createElement('div');\n",
              "          docLink.innerHTML = docLinkHtml;\n",
              "          element.appendChild(docLink);\n",
              "        }\n",
              "      </script>\n",
              "    </div>\n",
              "  </div>\n",
              "  "
            ]
          },
          "metadata": {},
          "execution_count": 3
        }
      ]
    },
    {
      "cell_type": "markdown",
      "source": [
        "#Preprocessing"
      ],
      "metadata": {
        "id": "jA7QbpikIwoP"
      }
    },
    {
      "cell_type": "code",
      "source": [
        "nyc.shape"
      ],
      "metadata": {
        "colab": {
          "base_uri": "https://localhost:8080/"
        },
        "id": "7C-nvsXXEYh1",
        "outputId": "09c2c353-7a3a-42e1-d1ec-ca61076d1154"
      },
      "execution_count": 4,
      "outputs": [
        {
          "output_type": "execute_result",
          "data": {
            "text/plain": [
              "(84548, 22)"
            ]
          },
          "metadata": {},
          "execution_count": 4
        }
      ]
    },
    {
      "cell_type": "code",
      "source": [
        "nyc.info()"
      ],
      "metadata": {
        "colab": {
          "base_uri": "https://localhost:8080/"
        },
        "id": "5GeSx0F-EV1K",
        "outputId": "52d819ae-4d26-47d4-f31f-5da89af60c60"
      },
      "execution_count": 5,
      "outputs": [
        {
          "output_type": "stream",
          "name": "stdout",
          "text": [
            "<class 'pandas.core.frame.DataFrame'>\n",
            "RangeIndex: 84548 entries, 0 to 84547\n",
            "Data columns (total 22 columns):\n",
            " #   Column                          Non-Null Count  Dtype  \n",
            "---  ------                          --------------  -----  \n",
            " 0   Unnamed: 0                      84548 non-null  int64  \n",
            " 1   BOROUGH                         84548 non-null  int64  \n",
            " 2   NEIGHBORHOOD                    84548 non-null  object \n",
            " 3   BUILDING CLASS CATEGORY         84548 non-null  object \n",
            " 4   TAX CLASS AT PRESENT            83810 non-null  object \n",
            " 5   BLOCK                           84548 non-null  int64  \n",
            " 6   LOT                             84548 non-null  int64  \n",
            " 7   EASE-MENT                       0 non-null      float64\n",
            " 8   BUILDING CLASS AT PRESENT       83810 non-null  object \n",
            " 9   ADDRESS                         84548 non-null  object \n",
            " 10  APARTMENT NUMBER                19052 non-null  object \n",
            " 11  ZIP CODE                        84548 non-null  int64  \n",
            " 12  RESIDENTIAL UNITS               84548 non-null  int64  \n",
            " 13  COMMERCIAL UNITS                84548 non-null  int64  \n",
            " 14  TOTAL UNITS                     84548 non-null  int64  \n",
            " 15  LAND SQUARE FEET                58296 non-null  float64\n",
            " 16  GROSS SQUARE FEET               56936 non-null  float64\n",
            " 17  YEAR BUILT                      84548 non-null  int64  \n",
            " 18  TAX CLASS AT TIME OF SALE       84548 non-null  int64  \n",
            " 19  BUILDING CLASS AT TIME OF SALE  84548 non-null  object \n",
            " 20  SALE PRICE                      69987 non-null  float64\n",
            " 21  SALE DATE                       84548 non-null  object \n",
            "dtypes: float64(4), int64(10), object(8)\n",
            "memory usage: 14.2+ MB\n"
          ]
        }
      ]
    },
    {
      "cell_type": "code",
      "source": [
        "nyc.drop(columns=['Unnamed: 0', 'EASE-MENT', 'APARTMENT NUMBER'], inplace=True)"
      ],
      "metadata": {
        "id": "pXHHBHA4H8Sn"
      },
      "execution_count": 6,
      "outputs": []
    },
    {
      "cell_type": "code",
      "source": [
        "nyc.info()"
      ],
      "metadata": {
        "colab": {
          "base_uri": "https://localhost:8080/"
        },
        "id": "feiPsDemIEOk",
        "outputId": "7aa8ef39-6eaf-4898-cf6e-1f9ceaa62c90"
      },
      "execution_count": 7,
      "outputs": [
        {
          "output_type": "stream",
          "name": "stdout",
          "text": [
            "<class 'pandas.core.frame.DataFrame'>\n",
            "RangeIndex: 84548 entries, 0 to 84547\n",
            "Data columns (total 19 columns):\n",
            " #   Column                          Non-Null Count  Dtype  \n",
            "---  ------                          --------------  -----  \n",
            " 0   BOROUGH                         84548 non-null  int64  \n",
            " 1   NEIGHBORHOOD                    84548 non-null  object \n",
            " 2   BUILDING CLASS CATEGORY         84548 non-null  object \n",
            " 3   TAX CLASS AT PRESENT            83810 non-null  object \n",
            " 4   BLOCK                           84548 non-null  int64  \n",
            " 5   LOT                             84548 non-null  int64  \n",
            " 6   BUILDING CLASS AT PRESENT       83810 non-null  object \n",
            " 7   ADDRESS                         84548 non-null  object \n",
            " 8   ZIP CODE                        84548 non-null  int64  \n",
            " 9   RESIDENTIAL UNITS               84548 non-null  int64  \n",
            " 10  COMMERCIAL UNITS                84548 non-null  int64  \n",
            " 11  TOTAL UNITS                     84548 non-null  int64  \n",
            " 12  LAND SQUARE FEET                58296 non-null  float64\n",
            " 13  GROSS SQUARE FEET               56936 non-null  float64\n",
            " 14  YEAR BUILT                      84548 non-null  int64  \n",
            " 15  TAX CLASS AT TIME OF SALE       84548 non-null  int64  \n",
            " 16  BUILDING CLASS AT TIME OF SALE  84548 non-null  object \n",
            " 17  SALE PRICE                      69987 non-null  float64\n",
            " 18  SALE DATE                       84548 non-null  object \n",
            "dtypes: float64(3), int64(9), object(7)\n",
            "memory usage: 12.3+ MB\n"
          ]
        }
      ]
    },
    {
      "cell_type": "code",
      "source": [
        "def changeborough(borough):\n",
        "    if borough == '1':\n",
        "        return 'Manhattan'\n",
        "    elif borough == '2':\n",
        "        return 'Bronx'\n",
        "    elif borough == '3':\n",
        "        return 'Brooklyn'\n",
        "    elif borough == '4':\n",
        "        return 'Queens'\n",
        "    elif borough == '5':\n",
        "        return 'Staten Island'\n",
        "    else:\n",
        "        return np.nan\n",
        "nyc[['BOROUGH','TAX CLASS AT TIME OF SALE']] = nyc[['BOROUGH','TAX CLASS AT TIME OF SALE']].astype('str')\n",
        "nyc['BOROUGH'] =  nyc['BOROUGH'].apply(changeborough)"
      ],
      "metadata": {
        "id": "TGUWIxMf8Hw_"
      },
      "execution_count": 8,
      "outputs": []
    },
    {
      "cell_type": "code",
      "source": [
        "nyc = nyc[(nyc['LAND SQUARE FEET'].notnull()) & (nyc['GROSS SQUARE FEET'].notnull())]"
      ],
      "metadata": {
        "id": "JSdF2GtFGJZJ"
      },
      "execution_count": 9,
      "outputs": []
    },
    {
      "cell_type": "markdown",
      "source": [
        "#Measure of Central Tendency : Mean"
      ],
      "metadata": {
        "id": "l28SciSZ7eZV"
      }
    },
    {
      "cell_type": "markdown",
      "source": [
        "##### Menghitung rata-rata SALE PRICEnya tiap BOROUGH"
      ],
      "metadata": {
        "id": "AtKalSi88qjH"
      }
    },
    {
      "cell_type": "code",
      "source": [
        "nyc.groupby(['BOROUGH'])['SALE PRICE'].mean()"
      ],
      "metadata": {
        "colab": {
          "base_uri": "https://localhost:8080/"
        },
        "id": "eP7l_AYA7ge_",
        "outputId": "35394bd7-50c4-4d6b-8998-c5d9bc1f65dd"
      },
      "execution_count": 10,
      "outputs": [
        {
          "output_type": "execute_result",
          "data": {
            "text/plain": [
              "BOROUGH\n",
              "Bronx            5.901936e+05\n",
              "Brooklyn         8.344884e+05\n",
              "Manhattan        1.851722e+07\n",
              "Queens           9.123055e+05\n",
              "Staten Island    5.286038e+05\n",
              "Name: SALE PRICE, dtype: float64"
            ]
          },
          "metadata": {},
          "execution_count": 10
        }
      ]
    },
    {
      "cell_type": "markdown",
      "source": [
        "##### Menghitung rata-rata LAND SQUARE FEET tiap BOROUGH"
      ],
      "metadata": {
        "id": "q3oSa4EJ9CxH"
      }
    },
    {
      "cell_type": "code",
      "source": [
        "nyc.groupby(['BOROUGH'])['LAND SQUARE FEET'].mean()"
      ],
      "metadata": {
        "colab": {
          "base_uri": "https://localhost:8080/"
        },
        "id": "v8eauUPH9EmW",
        "outputId": "cfba3029-993a-4ec0-dda3-d64abe7c0b92"
      },
      "execution_count": 11,
      "outputs": [
        {
          "output_type": "execute_result",
          "data": {
            "text/plain": [
              "BOROUGH\n",
              "Bronx            3947.091502\n",
              "Brooklyn         2166.259825\n",
              "Manhattan        5611.433410\n",
              "Queens           4242.383002\n",
              "Staten Island    6238.279442\n",
              "Name: LAND SQUARE FEET, dtype: float64"
            ]
          },
          "metadata": {},
          "execution_count": 11
        }
      ]
    },
    {
      "cell_type": "markdown",
      "source": [
        "##### Menghitung rata-rata GROSS SQUARE FEET tiap BOROUGH"
      ],
      "metadata": {
        "id": "8IrdbXsh9Ylm"
      }
    },
    {
      "cell_type": "code",
      "source": [
        "nyc.groupby(['BOROUGH'])['GROSS SQUARE FEET'].mean()"
      ],
      "metadata": {
        "colab": {
          "base_uri": "https://localhost:8080/"
        },
        "id": "pTIp1k-_-BVu",
        "outputId": "1a1436ab-7026-49eb-8d02-06fa8d8cb285"
      },
      "execution_count": 12,
      "outputs": [
        {
          "output_type": "execute_result",
          "data": {
            "text/plain": [
              "BOROUGH\n",
              "Bronx             4524.350262\n",
              "Brooklyn          2570.354597\n",
              "Manhattan        36598.780712\n",
              "Queens            3300.683281\n",
              "Staten Island     2305.117912\n",
              "Name: GROSS SQUARE FEET, dtype: float64"
            ]
          },
          "metadata": {},
          "execution_count": 12
        }
      ]
    },
    {
      "cell_type": "code",
      "source": [
        "nyc['GROSS SQUARE FEET'].mean()"
      ],
      "metadata": {
        "colab": {
          "base_uri": "https://localhost:8080/"
        },
        "id": "5Znc1QwM-KO5",
        "outputId": "2198a472-f75c-4a66-a4e9-4d2fcec5fa3e"
      },
      "execution_count": 13,
      "outputs": [
        {
          "output_type": "execute_result",
          "data": {
            "text/plain": [
              "4042.3168979448446"
            ]
          },
          "metadata": {},
          "execution_count": 13
        }
      ]
    },
    {
      "cell_type": "markdown",
      "source": [
        "#Measure of Central Tendency : Median"
      ],
      "metadata": {
        "id": "M-RPePSk-SV3"
      }
    },
    {
      "cell_type": "markdown",
      "source": [
        "##### Median kolom total units"
      ],
      "metadata": {
        "id": "_Oj4yCtn_BT0"
      }
    },
    {
      "cell_type": "code",
      "source": [
        "median_totalunits = nyc['TOTAL UNITS'].median()\n",
        "print('Median of Total Units:', median_totalunits)"
      ],
      "metadata": {
        "colab": {
          "base_uri": "https://localhost:8080/"
        },
        "id": "YaATfRmz-ce0",
        "outputId": "3ac9a9b2-dad9-4d30-8d13-1140bb16b073"
      },
      "execution_count": 14,
      "outputs": [
        {
          "output_type": "stream",
          "name": "stdout",
          "text": [
            "Median of Total Units: 1.0\n"
          ]
        }
      ]
    },
    {
      "cell_type": "markdown",
      "source": [
        "##### Median kolom LAND SQUARE FEET"
      ],
      "metadata": {
        "id": "SHv9LO7l_X-A"
      }
    },
    {
      "cell_type": "code",
      "source": [
        "median_landsquarefeet = nyc['LAND SQUARE FEET'].median()\n",
        "print('Median of Land Square Feet:', median_landsquarefeet)"
      ],
      "metadata": {
        "colab": {
          "base_uri": "https://localhost:8080/"
        },
        "id": "wPjSRKwS_bvY",
        "outputId": "7aaa9bb5-21fe-4038-db20-5470ba4af3ae"
      },
      "execution_count": 15,
      "outputs": [
        {
          "output_type": "stream",
          "name": "stdout",
          "text": [
            "Median of Land Square Feet: 2300.0\n"
          ]
        }
      ]
    },
    {
      "cell_type": "markdown",
      "source": [
        "##### Mediam kolom GROSS SQUARE FEET"
      ],
      "metadata": {
        "id": "H5BbQRJR_vcs"
      }
    },
    {
      "cell_type": "code",
      "source": [
        "median_grosssquarefeet = nyc['GROSS SQUARE FEET'].median()\n",
        "print('Median of Gross Square Feet:', median_grosssquarefeet)"
      ],
      "metadata": {
        "colab": {
          "base_uri": "https://localhost:8080/"
        },
        "id": "8NNym-NM_20r",
        "outputId": "1f13f268-e6f1-4ba2-90b1-55994ea593af"
      },
      "execution_count": 16,
      "outputs": [
        {
          "output_type": "stream",
          "name": "stdout",
          "text": [
            "Median of Gross Square Feet: 1680.0\n"
          ]
        }
      ]
    },
    {
      "cell_type": "markdown",
      "source": [
        "##### Median kolom sale price"
      ],
      "metadata": {
        "id": "b9eSFprYAEK5"
      }
    },
    {
      "cell_type": "code",
      "source": [
        "median_saleprice = nyc['SALE PRICE'].median()\n",
        "print('Median of Sale Price:', median_saleprice)"
      ],
      "metadata": {
        "colab": {
          "base_uri": "https://localhost:8080/"
        },
        "id": "6iBjPG17AIGM",
        "outputId": "90b10ae9-a122-4d82-82c9-398a92f27ce2"
      },
      "execution_count": 17,
      "outputs": [
        {
          "output_type": "stream",
          "name": "stdout",
          "text": [
            "Median of Sale Price: 480000.0\n"
          ]
        }
      ]
    },
    {
      "cell_type": "markdown",
      "source": [
        "#Measure of Tendency : Modus"
      ],
      "metadata": {
        "id": "h0-cFF0uAjZt"
      }
    },
    {
      "cell_type": "markdown",
      "source": [
        "##### Modus kolom BOROUGH"
      ],
      "metadata": {
        "id": "LQ_b9TLvAsYv"
      }
    },
    {
      "cell_type": "code",
      "source": [
        "mode_BOROUGH = nyc['BOROUGH'].mode()\n",
        "print('Mode of Borough:', mode_BOROUGH.values)"
      ],
      "metadata": {
        "colab": {
          "base_uri": "https://localhost:8080/"
        },
        "id": "2Cr-wS6ABBGi",
        "outputId": "f9c76dac-64df-4664-8730-7de424cc8c11"
      },
      "execution_count": 18,
      "outputs": [
        {
          "output_type": "stream",
          "name": "stdout",
          "text": [
            "Mode of Borough: ['Brooklyn']\n"
          ]
        }
      ]
    },
    {
      "cell_type": "markdown",
      "source": [
        "##### Modus kolom NEIGHBORHOOD"
      ],
      "metadata": {
        "id": "3Is8hGhuBU2v"
      }
    },
    {
      "cell_type": "code",
      "source": [
        "mode_NEIGHBORHOOD = nyc['NEIGHBORHOOD'].mode()\n",
        "print('Mode of Neighborhood:', mode_NEIGHBORHOOD.values)"
      ],
      "metadata": {
        "colab": {
          "base_uri": "https://localhost:8080/"
        },
        "id": "qrKTVHVMBa1I",
        "outputId": "66e199f8-821f-4a9e-eeea-10357be3a105"
      },
      "execution_count": 19,
      "outputs": [
        {
          "output_type": "stream",
          "name": "stdout",
          "text": [
            "Mode of Neighborhood: ['BEDFORD STUYVESANT']\n"
          ]
        }
      ]
    },
    {
      "cell_type": "markdown",
      "source": [
        "##### Modus kolom BUILDING CLASS CATEGORY"
      ],
      "metadata": {
        "id": "NtqCT9WJCgMg"
      }
    },
    {
      "cell_type": "code",
      "source": [
        "mode_BUILDINGCLASSCATEGORY = nyc['BUILDING CLASS CATEGORY'].mode()\n",
        "print('Mode of Neighborhood:', mode_BUILDINGCLASSCATEGORY.values)"
      ],
      "metadata": {
        "colab": {
          "base_uri": "https://localhost:8080/"
        },
        "id": "BQU2p79gCnXs",
        "outputId": "f7e513c5-ae20-4fc7-dc49-25f1507a3c5e"
      },
      "execution_count": 20,
      "outputs": [
        {
          "output_type": "stream",
          "name": "stdout",
          "text": [
            "Mode of Neighborhood: ['01 ONE FAMILY DWELLINGS                    ']\n"
          ]
        }
      ]
    },
    {
      "cell_type": "markdown",
      "source": [
        "##### Modus Kolom TAX CLASS AT PRESENT"
      ],
      "metadata": {
        "id": "fIWE9UofDNst"
      }
    },
    {
      "cell_type": "code",
      "source": [
        "mode_TAXCLASSATPRESENT = nyc['TAX CLASS AT PRESENT'].mode()\n",
        "print('Mode of Neighborhood:', mode_TAXCLASSATPRESENT.values)"
      ],
      "metadata": {
        "colab": {
          "base_uri": "https://localhost:8080/"
        },
        "id": "efLFpmUdDSb7",
        "outputId": "f33bc0be-ec99-48a9-8c78-d67cfe8f4948"
      },
      "execution_count": 21,
      "outputs": [
        {
          "output_type": "stream",
          "name": "stdout",
          "text": [
            "Mode of Neighborhood: ['1']\n"
          ]
        }
      ]
    },
    {
      "cell_type": "markdown",
      "source": [
        "##### Modus kolom BUILDING CLASS AT PRESENT"
      ],
      "metadata": {
        "id": "n-ve9myxDgB8"
      }
    },
    {
      "cell_type": "code",
      "source": [
        "mode_BUILDINGCLASSATPRESENT = nyc['BUILDING CLASS AT PRESENT'].mode()\n",
        "print('Mode of Neighborhood:', mode_BUILDINGCLASSATPRESENT.values)"
      ],
      "metadata": {
        "colab": {
          "base_uri": "https://localhost:8080/"
        },
        "id": "eif1c4sTDnZu",
        "outputId": "8a390592-e3a5-4b16-dfaf-33ce6ae87699"
      },
      "execution_count": 22,
      "outputs": [
        {
          "output_type": "stream",
          "name": "stdout",
          "text": [
            "Mode of Neighborhood: ['A1']\n"
          ]
        }
      ]
    },
    {
      "cell_type": "markdown",
      "source": [
        "#Measure of Spread : Range"
      ],
      "metadata": {
        "id": "sf45MTR3D6PV"
      }
    },
    {
      "cell_type": "markdown",
      "source": [
        "##### Range LAND SQUARE FEET"
      ],
      "metadata": {
        "id": "ST8LIxe3FOYJ"
      }
    },
    {
      "cell_type": "code",
      "source": [
        "range_LAND_SQUARE_FEET = np.ptp(nyc['LAND SQUARE FEET'])\n",
        "print(range_LAND_SQUARE_FEET)"
      ],
      "metadata": {
        "colab": {
          "base_uri": "https://localhost:8080/"
        },
        "id": "FCgi1x6GDnkE",
        "outputId": "fb6bcefa-1fb5-4317-93ad-62407a4871a0"
      },
      "execution_count": 23,
      "outputs": [
        {
          "output_type": "stream",
          "name": "stdout",
          "text": [
            "4228300.0\n"
          ]
        }
      ]
    },
    {
      "cell_type": "markdown",
      "source": [
        "##### Range GROSS SQUARE FEET"
      ],
      "metadata": {
        "id": "wZC3GaBNHUXM"
      }
    },
    {
      "cell_type": "code",
      "source": [
        "range_GROSS_SQUARE_FEET = np.ptp(nyc['GROSS SQUARE FEET'])\n",
        "print(range_GROSS_SQUARE_FEET)"
      ],
      "metadata": {
        "colab": {
          "base_uri": "https://localhost:8080/"
        },
        "id": "Ly77mky5Hgsa",
        "outputId": "e59fad8a-a2c3-49ba-f4ae-110ba8699185"
      },
      "execution_count": 24,
      "outputs": [
        {
          "output_type": "stream",
          "name": "stdout",
          "text": [
            "3750565.0\n"
          ]
        }
      ]
    },
    {
      "cell_type": "markdown",
      "source": [
        "#Measure of Spread : Variance"
      ],
      "metadata": {
        "id": "4GjXD3SfIZTL"
      }
    },
    {
      "cell_type": "markdown",
      "source": [
        "##### Variance kolom TOTAL UNITS"
      ],
      "metadata": {
        "id": "F_ZlKp7cIk7-"
      }
    },
    {
      "cell_type": "code",
      "source": [
        "var_TOTAL_UNITS = np.var(nyc['TOTAL UNITS'], ddof=1)\n",
        "print('Total Units Variance:', round(var_TOTAL_UNITS,1))"
      ],
      "metadata": {
        "colab": {
          "base_uri": "https://localhost:8080/"
        },
        "id": "-suGKWbkIXuN",
        "outputId": "437db81b-74d5-428b-c715-75ffc28eac66"
      },
      "execution_count": 25,
      "outputs": [
        {
          "output_type": "stream",
          "name": "stdout",
          "text": [
            "Total Units Variance: 514.0\n"
          ]
        }
      ]
    },
    {
      "cell_type": "markdown",
      "source": [
        "##### Variance kolom LAND SQUARE FEET"
      ],
      "metadata": {
        "id": "cvMb8F2kJOaz"
      }
    },
    {
      "cell_type": "code",
      "source": [
        "var_LAND_SQUARE_FEET = np.var(nyc['LAND SQUARE FEET'], ddof=1)\n",
        "print('LAND SQUARE FEET Variance:', round(var_LAND_SQUARE_FEET,1))"
      ],
      "metadata": {
        "colab": {
          "base_uri": "https://localhost:8080/"
        },
        "id": "R8_T_QuTJVxh",
        "outputId": "3d3d1fc9-e7fa-4910-8194-b28ceb738371"
      },
      "execution_count": 26,
      "outputs": [
        {
          "output_type": "stream",
          "name": "stdout",
          "text": [
            "LAND SQUARE FEET Variance: 1207659176.1\n"
          ]
        }
      ]
    },
    {
      "cell_type": "markdown",
      "source": [
        "##### Variance kolom GROSS SQUARE FEET"
      ],
      "metadata": {
        "id": "eaJKTN65JwXp"
      }
    },
    {
      "cell_type": "code",
      "source": [
        "var_GROSS_SQUARE_FEET = np.var(nyc['GROSS SQUARE FEET'], ddof=1)\n",
        "print('GROSS SQUARE FEET Variance:', round(var_GROSS_SQUARE_FEET,1))"
      ],
      "metadata": {
        "colab": {
          "base_uri": "https://localhost:8080/"
        },
        "id": "iKQinp8iJuHU",
        "outputId": "b50b90f1-a242-4363-fcff-c2d528bf34b4"
      },
      "execution_count": 27,
      "outputs": [
        {
          "output_type": "stream",
          "name": "stdout",
          "text": [
            "GROSS SQUARE FEET Variance: 1227290090.9\n"
          ]
        }
      ]
    },
    {
      "cell_type": "markdown",
      "source": [
        "##### Variance kolom SALE PRICE"
      ],
      "metadata": {
        "id": "BEQwb5tMKFOJ"
      }
    },
    {
      "cell_type": "code",
      "source": [
        "var_SALE_PRICE = np.var(nyc['SALE PRICE'], ddof=1)\n",
        "print('SALE PRICE Variance:', round(var_SALE_PRICE,1))"
      ],
      "metadata": {
        "colab": {
          "base_uri": "https://localhost:8080/"
        },
        "id": "XCK2-7G7Ju_K",
        "outputId": "9314c7cd-5950-4c70-86cd-bd355d6c1e35"
      },
      "execution_count": 28,
      "outputs": [
        {
          "output_type": "stream",
          "name": "stdout",
          "text": [
            "SALE PRICE Variance: 179595088101951.0\n"
          ]
        }
      ]
    },
    {
      "cell_type": "markdown",
      "source": [
        "#Measure of Spread : Standard Deviation"
      ],
      "metadata": {
        "id": "CJR6AvbmLZwh"
      }
    },
    {
      "cell_type": "markdown",
      "source": [
        "##### Standard Deviation kolom TOTAL UNITS"
      ],
      "metadata": {
        "id": "j-n0sJYFLk84"
      }
    },
    {
      "cell_type": "code",
      "source": [
        "std_TOTAL_UNITS = var_TOTAL_UNITS**0.5\n",
        "print('TOTAL UNITS STD : ', round(std_TOTAL_UNITS,1))"
      ],
      "metadata": {
        "colab": {
          "base_uri": "https://localhost:8080/"
        },
        "id": "VRLvNal7LwV5",
        "outputId": "81a0014d-d508-4819-a6f6-2f55aefc34d2"
      },
      "execution_count": 29,
      "outputs": [
        {
          "output_type": "stream",
          "name": "stdout",
          "text": [
            "TOTAL UNITS STD :  22.7\n"
          ]
        }
      ]
    },
    {
      "cell_type": "markdown",
      "source": [
        "#####Standard Deviation kolom LAND SQUARE FEET"
      ],
      "metadata": {
        "id": "mU_d6hg9MpkS"
      }
    },
    {
      "cell_type": "code",
      "source": [
        "std_LAND_SQUARE_FEET = var_LAND_SQUARE_FEET**0.5\n",
        "print('LAND SQUARE FEET STD : ', round(std_LAND_SQUARE_FEET,1))"
      ],
      "metadata": {
        "colab": {
          "base_uri": "https://localhost:8080/"
        },
        "id": "eaFAlRf3MyIU",
        "outputId": "6924bbdb-3167-41e2-8583-3a44a8cc820a"
      },
      "execution_count": 30,
      "outputs": [
        {
          "output_type": "stream",
          "name": "stdout",
          "text": [
            "LAND SQUARE FEET STD :  34751.4\n"
          ]
        }
      ]
    },
    {
      "cell_type": "markdown",
      "source": [
        "#####Standard Deviation GROSS SQUARE FEET"
      ],
      "metadata": {
        "id": "Ht0Rk1WZNWCF"
      }
    },
    {
      "cell_type": "code",
      "source": [
        "std_GROSS_SQUARE_FEET = var_GROSS_SQUARE_FEET**0.5\n",
        "print('GROSS SQUARE FEET STD : ', round(std_GROSS_SQUARE_FEET,1))"
      ],
      "metadata": {
        "colab": {
          "base_uri": "https://localhost:8080/"
        },
        "id": "LCWw6SpANIy4",
        "outputId": "93acba10-bc97-4f7b-9903-37104ec9abbd"
      },
      "execution_count": 31,
      "outputs": [
        {
          "output_type": "stream",
          "name": "stdout",
          "text": [
            "GROSS SQUARE FEET STD :  35032.7\n"
          ]
        }
      ]
    },
    {
      "cell_type": "markdown",
      "source": [
        "#####Standard Deviation SALE PRICE"
      ],
      "metadata": {
        "id": "NF0ZLwR0NkiY"
      }
    },
    {
      "cell_type": "code",
      "source": [
        "std_SALE_PRICE = var_SALE_PRICE**0.5\n",
        "print('SALE PRICE STD : ', round(std_SALE_PRICE,1))"
      ],
      "metadata": {
        "colab": {
          "base_uri": "https://localhost:8080/"
        },
        "id": "JvmR3roWNx9s",
        "outputId": "1d71afd1-1efc-470c-90c1-d43f51d0a248"
      },
      "execution_count": 32,
      "outputs": [
        {
          "output_type": "stream",
          "name": "stdout",
          "text": [
            "SALE PRICE STD :  13401309.2\n"
          ]
        }
      ]
    },
    {
      "cell_type": "markdown",
      "source": [
        "#Probability Distribution"
      ],
      "metadata": {
        "id": "SJfzsZ5rKat2"
      }
    },
    {
      "cell_type": "markdown",
      "source": [
        "##### Distribusi SALE PRICE disetiap BOROUGH"
      ],
      "metadata": {
        "id": "RGFXI-3ePwfi"
      }
    },
    {
      "cell_type": "code",
      "source": [
        "sns.barplot(x = nyc['SALE PRICE'], y = nyc['BOROUGH'])\n",
        "plt.title('Distribusi SALE PRICE di setiap BOROUGH',size=15)\n",
        "plt.show()"
      ],
      "metadata": {
        "colab": {
          "base_uri": "https://localhost:8080/",
          "height": 474
        },
        "id": "USWDSvg8KkyS",
        "outputId": "86d91b7b-2915-4f9c-8306-15966b64da6f"
      },
      "execution_count": 33,
      "outputs": [
        {
          "output_type": "display_data",
          "data": {
            "text/plain": [
              "<Figure size 640x480 with 1 Axes>"
            ],
            "image/png": "[encoded data removed]"
          },
          "metadata": {}
        }
      ]
    },
    {
      "cell_type": "code",
      "source": [
        "sns.distplot(nyc[nyc['BOROUGH'] == 'Manhattan']['SALE PRICE'])\n",
        "plt.title('Distribusi SALE PRICE pada Manhattan',size=15)\n",
        "plt.show()"
      ],
      "metadata": {
        "colab": {
          "base_uri": "https://localhost:8080/",
          "height": 665
        },
        "id": "pZ2ZNNd1Sq1s",
        "outputId": "edfabbb5-454d-4921-c896-f72cb7f5155c"
      },
      "execution_count": 36,
      "outputs": [
        {
          "output_type": "stream",
          "name": "stderr",
          "text": [
            "<ipython-input-36-f9502ca2333e>:1: UserWarning: \n",
            "\n",
            "`distplot` is a deprecated function and will be removed in seaborn v0.14.0.\n",
            "\n",
            "Please adapt your code to use either `displot` (a figure-level function with\n",
            "similar flexibility) or `histplot` (an axes-level function for histograms).\n",
            "\n",
            "For a guide to updating your code to use the new functions, please see\n",
            "https://gist.github.com/mwaskom/de44147ed2974457ad6372750bbe5751\n",
            "\n",
            "  sns.distplot(nyc[nyc['BOROUGH'] == 'Manhattan']['SALE PRICE'])\n"
          ]
        },
        {
          "output_type": "display_data",
          "data": {
            "text/plain": [
              "<Figure size 640x480 with 1 Axes>"
            ],
            "image/png": "[encoded data removed]"
          },
          "metadata": {}
        }
      ]
    },
    {
      "cell_type": "markdown",
      "source": [
        "Berdasarkan plot diatas distribusi sale price pada Manhattan merupakan distribusi yang tidak normal. Hal ini dapat disebabkan oleh penyebaran data yang tidak terdistribusi."
      ],
      "metadata": {
        "id": "OpC1v9vooroT"
      }
    },
    {
      "cell_type": "markdown",
      "source": [
        "#Confidence Intervals"
      ],
      "metadata": {
        "id": "BMMc2uNWKlQA"
      }
    },
    {
      "cell_type": "markdown",
      "source": [
        "#####Berapa rata-rata SALE PRICE BRONX dengan CI 95%?"
      ],
      "metadata": {
        "id": "IHHMXzv5pgJ3"
      }
    },
    {
      "cell_type": "code",
      "source": [
        "bronx = nyc[nyc['BOROUGH'] == 'Bronx']"
      ],
      "metadata": {
        "id": "PZHdqzaCt1UU"
      },
      "execution_count": 44,
      "outputs": []
    },
    {
      "cell_type": "code",
      "source": [
        "sample_data = []\n",
        "n = 1000\n",
        "for sample in range(0,100):\n",
        "  values = np.random.choice(a=bronx['SALE PRICE'], size = n)\n",
        "  sample = np.mean(values)\n",
        "  sample_data.append(sample)"
      ],
      "metadata": {
        "id": "WbROQaTeKqBx"
      },
      "execution_count": 47,
      "outputs": []
    },
    {
      "cell_type": "code",
      "source": [
        "median_sample_data = np.median(sample_data)\n",
        "median_sample_data"
      ],
      "metadata": {
        "colab": {
          "base_uri": "https://localhost:8080/"
        },
        "id": "ADGekJa9v0sX",
        "outputId": "1d341eb2-7764-4153-d4dc-ea587679c16b"
      },
      "execution_count": 50,
      "outputs": [
        {
          "output_type": "execute_result",
          "data": {
            "text/plain": [
              "580152.951"
            ]
          },
          "metadata": {},
          "execution_count": 50
        }
      ]
    },
    {
      "cell_type": "code",
      "source": [
        "mean_sample_data = np.mean(sample_data)\n",
        "mean_sample_data"
      ],
      "metadata": {
        "colab": {
          "base_uri": "https://localhost:8080/"
        },
        "id": "n3RKeoPswHFm",
        "outputId": "5cd7d7c8-9a81-467a-924c-a793bf0be785"
      },
      "execution_count": 51,
      "outputs": [
        {
          "output_type": "execute_result",
          "data": {
            "text/plain": [
              "594782.34551"
            ]
          },
          "metadata": {},
          "execution_count": 51
        }
      ]
    },
    {
      "cell_type": "code",
      "source": [
        "std_sample_data = np.std(sample_data)\n",
        "std_sample_data"
      ],
      "metadata": {
        "colab": {
          "base_uri": "https://localhost:8080/"
        },
        "id": "i9gRQJhnwOda",
        "outputId": "77ef45b5-5ff4-465a-af67-5ef546a22701"
      },
      "execution_count": 53,
      "outputs": [
        {
          "output_type": "execute_result",
          "data": {
            "text/plain": [
              "87069.40011004261"
            ]
          },
          "metadata": {},
          "execution_count": 53
        }
      ]
    },
    {
      "cell_type": "code",
      "source": [
        "standarderror = std_sample_data/np.sqrt(n)\n",
        "standarderror"
      ],
      "metadata": {
        "colab": {
          "base_uri": "https://localhost:8080/"
        },
        "id": "DUIy0ahxwcwt",
        "outputId": "03699e2f-4355-4c34-dd99-7de65bdef215"
      },
      "execution_count": 54,
      "outputs": [
        {
          "output_type": "execute_result",
          "data": {
            "text/plain": [
              "2753.3761885225"
            ]
          },
          "metadata": {},
          "execution_count": 54
        }
      ]
    },
    {
      "cell_type": "code",
      "source": [
        "z_score = 1.96\n",
        "\n",
        "lower = mean_sample_data - (z_score*standarderror)  # batas bawah CI\n",
        "upper = mean_sample_data + (z_score*standarderror)  # batas atas CI\n",
        "lower, upper"
      ],
      "metadata": {
        "colab": {
          "base_uri": "https://localhost:8080/"
        },
        "id": "rkrawE3TwwB9",
        "outputId": "ca2f862f-881e-4a4d-8a0f-26b504d8d124"
      },
      "execution_count": 56,
      "outputs": [
        {
          "output_type": "execute_result",
          "data": {
            "text/plain": [
              "(589385.7281804959, 600178.9628395041)"
            ]
          },
          "metadata": {},
          "execution_count": 56
        }
      ]
    },
    {
      "cell_type": "markdown",
      "source": [
        "Dapat disimpulkan bahwa rata-rata SALE PRICE dengan CI 95% dari populasi Bronx berkisar antara 58 juta hingga 60 juta USD"
      ],
      "metadata": {
        "id": "Txm8RT1RxMBg"
      }
    },
    {
      "cell_type": "markdown",
      "source": [
        "#Hypothesis Testing"
      ],
      "metadata": {
        "id": "6OqApDCBKqcS"
      }
    },
    {
      "cell_type": "markdown",
      "source": [
        "#####Apakah Total Unit pada BOROUGH Staten Island lebih besar dari BOROUGH Queens?"
      ],
      "metadata": {
        "id": "zZIMcNbT0krm"
      }
    },
    {
      "cell_type": "markdown",
      "source": [
        "ho => Total Unit pada BOROUGH Staten Island >= Total Unit pada BOROUGH Queens (null hypothesis) <br> \n",
        "ha => Total Unit pada BOROUGH Staten Island < Total Unit pada BOROUGH Queens"
      ],
      "metadata": {
        "id": "We73mX2H3OOC"
      }
    },
    {
      "cell_type": "code",
      "source": [
        "Staten = nyc[(nyc['BOROUGH'] == 'Staten Island')]\n",
        "Staten['TOTAL UNITS'].sum()"
      ],
      "metadata": {
        "id": "A1j-wPQfKu95",
        "colab": {
          "base_uri": "https://localhost:8080/"
        },
        "outputId": "52188536-da6f-4678-d39c-7a45b73a0fe8"
      },
      "execution_count": 81,
      "outputs": [
        {
          "output_type": "execute_result",
          "data": {
            "text/plain": [
              "9990"
            ]
          },
          "metadata": {},
          "execution_count": 81
        }
      ]
    },
    {
      "cell_type": "code",
      "source": [
        "Queens = nyc[(nyc['BOROUGH'] == 'Queens')]\n",
        "Queens['TOTAL UNITS'].sum()"
      ],
      "metadata": {
        "colab": {
          "base_uri": "https://localhost:8080/"
        },
        "id": "1Xkk-VlH4QvI",
        "outputId": "04ad8f7a-63fa-4df3-b705-4f4c9c4417b4"
      },
      "execution_count": 82,
      "outputs": [
        {
          "output_type": "execute_result",
          "data": {
            "text/plain": [
              "47128"
            ]
          },
          "metadata": {},
          "execution_count": 82
        }
      ]
    },
    {
      "cell_type": "code",
      "source": [
        "# menghitung ztest dan mendapatkan nilai p value\n",
        "sm.stats.ztest(Staten[\"TOTAL UNITS\"], Queens[\"TOTAL UNITS\"],alternative='two-sided')"
      ],
      "metadata": {
        "colab": {
          "base_uri": "https://localhost:8080/"
        },
        "id": "Dp2SgRYO5R1-",
        "outputId": "bf83dd1e-6124-4b30-f24f-630c5ee3eb7d"
      },
      "execution_count": 83,
      "outputs": [
        {
          "output_type": "execute_result",
          "data": {
            "text/plain": [
              "(-3.7121701284567616, 0.00020548978345031815)"
            ]
          },
          "metadata": {},
          "execution_count": 83
        }
      ]
    },
    {
      "cell_type": "markdown",
      "source": [
        "Karena p-value (0.0002) lebih kecil dari alpha (0.05), null hypothesis dapat direject bahwa total units di Staten Island lebih besar dan sama dengan total units di Queens. Jadi, total units di Staten Island yakni 9990 lebih kecil dari total units di Queens yakni 47128."
      ],
      "metadata": {
        "id": "oq12kDdr7hjh"
      }
    },
    {
      "cell_type": "markdown",
      "source": [
        "#Kesimpulan"
      ],
      "metadata": {
        "id": "jNfjPeunCfk4"
      }
    },
    {
      "cell_type": "markdown",
      "source": [
        "* Rata rata Sale Price tertinggi terletak pada Brooklyn dan terendah pada Manhattan.\n",
        "* Rata rata Land Square Feet tertinggi terletak pada Staten Island dan terendah pada Brooklyn.\n",
        "* Rata rata Groos Square Feet tertinggi terletak pada Manhattan dan terendah pada Staten Island.\n",
        "* Median total units sama dengan 1.0, land square feet sama dengan 2300.0, gross square feet sama dengan 1680.0, sale price sama dengan 480000.0\n",
        "* Modus pada Borough yakni Brooklyn, pada Neighborhood yakni Bedford Stuyvesant, pada Building class category yakni 01 One Family Dwellings, pada Tax class at Present yakni 1, pada Building class at present yakni A1.\n",
        "* Range Land Square Feet yakni 4228300.0 dan Gross Square Feet yakni 3750565.0\n",
        "* Variance pada Total Units yakni 514.0, pada Land Square Feet yakni 1207659176.1, pada Gross Square Feet yakni 1227290090.9, pada Sale Price yakni 179595088101951.0\n",
        "* Std pada Total Units yakni 22.7, pada Land Square Feet yakni 34751.4, pada Gross Square Feet yakni 35032.7, pada Sale Price yakni 13401309.2\n",
        "* Distribusi Sale Price pada Manhattan merupakan distrubusi tidak normal.\n",
        "* Rata rata Sale Price dengan CI 95% pada Bronx berkisar antara 58 juta sampai 60 juta USD.\n",
        "* Total units di Staten Island yakni 9990 lebih kecil dari total units di Queens yakni 47128."
      ],
      "metadata": {
        "id": "7ufjS_0uChRf"
      }
    }
  ]
}